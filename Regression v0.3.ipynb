{
 "cells": [
  {
   "cell_type": "markdown",
   "metadata": {},
   "source": [
    "##### Which aspect of a flight best predicts a customers' overall rating of an airline?"
   ]
  },
  {
   "cell_type": "code",
   "execution_count": 1,
   "metadata": {},
   "outputs": [],
   "source": [
    "from sklearn.linear_model import LinearRegression, Ridge, Lasso, ElasticNet, RidgeCV, LassoCV, ElasticNetCV\n",
    "from sklearn.model_selection import cross_val_score, train_test_split, GridSearchCV\n",
    "from sklearn.ensemble import RandomForestRegressor\n",
    "from sklearn.model_selection import RandomizedSearchCV\n",
    "from sklearn.preprocessing import StandardScaler\n",
    "from sklearn.metrics import mean_squared_error, r2_score\n",
    "import numpy as np\n",
    "import pickle\n",
    "import patsy\n",
    "import seaborn as sns\n",
    "import matplotlib.pyplot as plt\n",
    "import pandas as pd\n",
    "import warnings\n",
    "\n",
    "%config InlineBackend.figure_format = 'retina'\n",
    "%matplotlib inline\n",
    "warnings.filterwarnings('ignore')"
   ]
  },
  {
   "cell_type": "code",
   "execution_count": 2,
   "metadata": {},
   "outputs": [],
   "source": [
    "# we open the file for reading\n",
    "fileObject1 = open(\"df_air.pickle\",'rb')\n",
    "fileObject2 = open(\"df_main.pickle\",'rb')\n",
    "fileObject3 = open(\"star.pickle\",'rb')\n",
    "fileObject4 = open(\"budget.pickle\",'rb')\n",
    "\n",
    "# load the object from the file into variables\n",
    "df_air = pickle.load(fileObject1)  \n",
    "df = pickle.load(fileObject2) \n",
    "star = pickle.load(fileObject3) \n",
    "budget = pickle.load(fileObject4) "
   ]
  },
  {
   "cell_type": "code",
   "execution_count": 3,
   "metadata": {
    "scrolled": true
   },
   "outputs": [
    {
     "data": {
      "text/html": [
       "<div>\n",
       "<style scoped>\n",
       "    .dataframe tbody tr th:only-of-type {\n",
       "        vertical-align: middle;\n",
       "    }\n",
       "\n",
       "    .dataframe tbody tr th {\n",
       "        vertical-align: top;\n",
       "    }\n",
       "\n",
       "    .dataframe thead th {\n",
       "        text-align: right;\n",
       "    }\n",
       "</style>\n",
       "<table border=\"1\" class=\"dataframe\">\n",
       "  <thead>\n",
       "    <tr style=\"text-align: right;\">\n",
       "      <th></th>\n",
       "      <th>airline_name</th>\n",
       "      <th>author_country</th>\n",
       "      <th>content</th>\n",
       "      <th>cabin_flown</th>\n",
       "      <th>overall_rating</th>\n",
       "      <th>seat_comfort_rating</th>\n",
       "      <th>cabin_staff_rating</th>\n",
       "      <th>food_beverages_rating</th>\n",
       "      <th>inflight_entertainment_rating</th>\n",
       "      <th>ground_service_rating</th>\n",
       "      <th>wifi_connectivity_rating</th>\n",
       "      <th>value_money_rating</th>\n",
       "      <th>recommend</th>\n",
       "      <th>airline</th>\n",
       "      <th>cabin_class</th>\n",
       "      <th>overall</th>\n",
       "    </tr>\n",
       "  </thead>\n",
       "  <tbody>\n",
       "    <tr>\n",
       "      <th>0</th>\n",
       "      <td>0</td>\n",
       "      <td>54</td>\n",
       "      <td>Outbound flight FRA/PRN A319. 2 hours 10 min f...</td>\n",
       "      <td>1</td>\n",
       "      <td>7.0</td>\n",
       "      <td>4.0</td>\n",
       "      <td>4.0</td>\n",
       "      <td>4.0</td>\n",
       "      <td>0.0</td>\n",
       "      <td>3.0</td>\n",
       "      <td>3.0</td>\n",
       "      <td>4.0</td>\n",
       "      <td>1</td>\n",
       "      <td>adria-airways</td>\n",
       "      <td>Economy</td>\n",
       "      <td>3.5</td>\n",
       "    </tr>\n",
       "    <tr>\n",
       "      <th>1</th>\n",
       "      <td>0</td>\n",
       "      <td>149</td>\n",
       "      <td>Two short hops ZRH-LJU and LJU-VIE. Very fast ...</td>\n",
       "      <td>0</td>\n",
       "      <td>10.0</td>\n",
       "      <td>4.0</td>\n",
       "      <td>5.0</td>\n",
       "      <td>4.0</td>\n",
       "      <td>1.0</td>\n",
       "      <td>3.0</td>\n",
       "      <td>3.0</td>\n",
       "      <td>5.0</td>\n",
       "      <td>1</td>\n",
       "      <td>adria-airways</td>\n",
       "      <td>Business Class</td>\n",
       "      <td>5.0</td>\n",
       "    </tr>\n",
       "    <tr>\n",
       "      <th>2</th>\n",
       "      <td>0</td>\n",
       "      <td>138</td>\n",
       "      <td>Flew Zurich-Ljubljana on JP365 newish CRJ900. ...</td>\n",
       "      <td>1</td>\n",
       "      <td>9.0</td>\n",
       "      <td>5.0</td>\n",
       "      <td>5.0</td>\n",
       "      <td>4.0</td>\n",
       "      <td>0.0</td>\n",
       "      <td>3.0</td>\n",
       "      <td>3.0</td>\n",
       "      <td>5.0</td>\n",
       "      <td>1</td>\n",
       "      <td>adria-airways</td>\n",
       "      <td>Economy</td>\n",
       "      <td>4.5</td>\n",
       "    </tr>\n",
       "    <tr>\n",
       "      <th>3</th>\n",
       "      <td>0</td>\n",
       "      <td>129</td>\n",
       "      <td>Adria serves this 100 min flight from Ljubljan...</td>\n",
       "      <td>0</td>\n",
       "      <td>8.0</td>\n",
       "      <td>4.0</td>\n",
       "      <td>4.0</td>\n",
       "      <td>3.0</td>\n",
       "      <td>1.0</td>\n",
       "      <td>3.0</td>\n",
       "      <td>3.0</td>\n",
       "      <td>4.0</td>\n",
       "      <td>1</td>\n",
       "      <td>adria-airways</td>\n",
       "      <td>Business Class</td>\n",
       "      <td>4.0</td>\n",
       "    </tr>\n",
       "    <tr>\n",
       "      <th>4</th>\n",
       "      <td>0</td>\n",
       "      <td>118</td>\n",
       "      <td>WAW-SKJ Economy. No free snacks or drinks on t...</td>\n",
       "      <td>1</td>\n",
       "      <td>4.0</td>\n",
       "      <td>4.0</td>\n",
       "      <td>2.0</td>\n",
       "      <td>1.0</td>\n",
       "      <td>2.0</td>\n",
       "      <td>3.0</td>\n",
       "      <td>3.0</td>\n",
       "      <td>2.0</td>\n",
       "      <td>0</td>\n",
       "      <td>adria-airways</td>\n",
       "      <td>Economy</td>\n",
       "      <td>2.0</td>\n",
       "    </tr>\n",
       "  </tbody>\n",
       "</table>\n",
       "</div>"
      ],
      "text/plain": [
       "   airline_name  author_country  \\\n",
       "0             0              54   \n",
       "1             0             149   \n",
       "2             0             138   \n",
       "3             0             129   \n",
       "4             0             118   \n",
       "\n",
       "                                             content  cabin_flown  \\\n",
       "0  Outbound flight FRA/PRN A319. 2 hours 10 min f...            1   \n",
       "1  Two short hops ZRH-LJU and LJU-VIE. Very fast ...            0   \n",
       "2  Flew Zurich-Ljubljana on JP365 newish CRJ900. ...            1   \n",
       "3  Adria serves this 100 min flight from Ljubljan...            0   \n",
       "4  WAW-SKJ Economy. No free snacks or drinks on t...            1   \n",
       "\n",
       "   overall_rating  seat_comfort_rating  cabin_staff_rating  \\\n",
       "0             7.0                  4.0                 4.0   \n",
       "1            10.0                  4.0                 5.0   \n",
       "2             9.0                  5.0                 5.0   \n",
       "3             8.0                  4.0                 4.0   \n",
       "4             4.0                  4.0                 2.0   \n",
       "\n",
       "   food_beverages_rating  inflight_entertainment_rating  \\\n",
       "0                    4.0                            0.0   \n",
       "1                    4.0                            1.0   \n",
       "2                    4.0                            0.0   \n",
       "3                    3.0                            1.0   \n",
       "4                    1.0                            2.0   \n",
       "\n",
       "   ground_service_rating  wifi_connectivity_rating  value_money_rating  \\\n",
       "0                    3.0                       3.0                 4.0   \n",
       "1                    3.0                       3.0                 5.0   \n",
       "2                    3.0                       3.0                 5.0   \n",
       "3                    3.0                       3.0                 4.0   \n",
       "4                    3.0                       3.0                 2.0   \n",
       "\n",
       "   recommend        airline     cabin_class  overall  \n",
       "0          1  adria-airways         Economy      3.5  \n",
       "1          1  adria-airways  Business Class      5.0  \n",
       "2          1  adria-airways         Economy      4.5  \n",
       "3          1  adria-airways  Business Class      4.0  \n",
       "4          0  adria-airways         Economy      2.0  "
      ]
     },
     "execution_count": 3,
     "metadata": {},
     "output_type": "execute_result"
    }
   ],
   "source": [
    "df.head()"
   ]
  },
  {
   "cell_type": "code",
   "execution_count": 4,
   "metadata": {},
   "outputs": [
    {
     "data": {
      "text/plain": [
       "0        Outbound flight FRA/PRN A319. 2 hours 10 min f...\n",
       "1        Two short hops ZRH-LJU and LJU-VIE. Very fast ...\n",
       "2        Flew Zurich-Ljubljana on JP365 newish CRJ900. ...\n",
       "3        Adria serves this 100 min flight from Ljubljan...\n",
       "4        WAW-SKJ Economy. No free snacks or drinks on t...\n",
       "5        Sarajevo-Frankfurt via Ljubljana. I loved flyi...\n",
       "6        I had flights from Paris to Sarajevo via Ljubl...\n",
       "7        LJU to FRA and back both flights were on time....\n",
       "8        On my Ljubljana - Munich flight in business cl...\n",
       "9        Flights from LJU to ZRH and back all on time. ...\n",
       "10       I was very satisfied with the CRJ 900 on my fl...\n",
       "11       I was on JP650 the evening departure to Istanb...\n",
       "12       VIE-LJU LJU-MUC Aug 4-15th CRJ200. Both flight...\n",
       "13       If I have to fly a regional jet then I prefer ...\n",
       "14       Istanbul-Ljubljana-Munich and return. Pre-take...\n",
       "15       Return flight Paris-Skopje via Ljubljana. All ...\n",
       "16       BEG-LJU-BEG with CRJ200 great regional airline...\n",
       "17       I fly at least once a month ZRH-LJU-ZRH. My ex...\n",
       "18       LTN to LJU outbound with CRJ200 return with CR...\n",
       "19       Ljubljana to Brussels with CRJ900. Boarding on...\n",
       "20       LJU-FRA and FRA-LJU. First flight on time retu...\n",
       "21       LJU-FRA-LJU. Both flights on time. Flight atte...\n",
       "22       Smart and efficient service. Small planes but ...\n",
       "23       FRA-VIE in Business Class. A great little airl...\n",
       "24       London Gatwick to Ljubljana and Ljubljana to V...\n",
       "25       ZRH to LJU as a continuation to a flight with ...\n",
       "26       I fly Adria a lot (at least once a month) and ...\n",
       "27       Brand new A320, interior spotless. Crew immacu...\n",
       "28       I fly Adria quite a lot (aprox 2 flts a month)...\n",
       "29       This was my first time with Adria. Short hop f...\n",
       "                               ...                        \n",
       "41366    London Luton to Belgrade return. Nice relative...\n",
       "41367    LTN-KBP. Wizzair's seats are very soft and wid...\n",
       "41368    Flight from Bergamo-Cluj delayed 5.5 hours bec...\n",
       "41369    Turku-Budapest return flight flight was on tim...\n",
       "41370    I booked Katowice-Doncaster. The flight was de...\n",
       "41371    HHN-KTW-HHN. Very low fare (30 EUR return) pay...\n",
       "41372    My flight from London Luton to Zagreb had been...\n",
       "41373    Cramped late and surly but cheap. However God ...\n",
       "41374    We pre-booked a transfer through Wizz Air for ...\n",
       "41375    Luton - Prague - Luton. Snowy weather and two ...\n",
       "41376    FCO-WAW nice new A320 flight on time. Check in...\n",
       "41377    Luton-Prague-Luton. Poor service rude cabin cr...\n",
       "41378    Budapest to London with A320 almost 7 hrs dela...\n",
       "41379    Weeze-Bucharest Baneasa return. Great value fo...\n",
       "41380    Cluj-Weeze clean plane friendly crew. The spac...\n",
       "41381    Luton-Warsaw return trip. This short hop was e...\n",
       "41382    BBU-NRN. Bucharest Baneasa airport is easily r...\n",
       "41383    We just spent a few days in Poland and used Wi...\n",
       "41384    Brussels-Budapest. Planes new with leather sea...\n",
       "41385    Madrid to Katowice Kiev to Katowice Katowice t...\n",
       "41386    Varna - London Luton. Modern clean aircraft wi...\n",
       "41387    BUD-CRL-BUD. A320's are okay especially the ne...\n",
       "41388    BGY-SOF and BBU-BGY. Flight to Sofia delayed h...\n",
       "41389    Treviso to Lviv. Seemed like a new plane. Very...\n",
       "41390    Rome to Prague. Was very happy with the flight...\n",
       "41391    This airline is terrible! Timetable changes (m...\n",
       "41392    We often fly with Wizzair to/from Charleroi/Bu...\n",
       "41393    Avoid Wizzair! A group of us had our outgoing ...\n",
       "41394    PRG-LTN and LTN-PRG were rather good flights. ...\n",
       "41395    London - Kiev. First problem started a few wee...\n",
       "Name: content, Length: 38466, dtype: object"
      ]
     },
     "execution_count": 4,
     "metadata": {},
     "output_type": "execute_result"
    }
   ],
   "source": [
    "df.content"
   ]
  },
  {
   "cell_type": "code",
   "execution_count": 5,
   "metadata": {},
   "outputs": [],
   "source": [
    "formula = 'overall ~ airline_name + author_country + seat_comfort_rating + cabin_staff_rating + food_beverages_rating + inflight_entertainment_rating + value_money_rating + cabin_flown + recommend'\n",
    "y, X = patsy.dmatrices(formula, data=df, return_type='dataframe')\n",
    "y = y.values.ravel()\n",
    "\n",
    "ss = StandardScaler()\n",
    "Xs = ss.fit_transform(X)"
   ]
  },
  {
   "cell_type": "code",
   "execution_count": 6,
   "metadata": {},
   "outputs": [],
   "source": [
    "X_train, X_test, y_train, y_test = train_test_split(Xs, y, train_size=.7)"
   ]
  },
  {
   "cell_type": "markdown",
   "metadata": {},
   "source": [
    "##### ****** Lasso ******"
   ]
  },
  {
   "cell_type": "code",
   "execution_count": 7,
   "metadata": {},
   "outputs": [
    {
     "name": "stderr",
     "output_type": "stream",
     "text": [
      "[Parallel(n_jobs=1)]: Using backend SequentialBackend with 1 concurrent workers.\n",
      "................................................................................................................................................................................................................................................................................................................................................................................................................................................................................................................................................................................................................................................................................................................................................................................................................................................................................................................................................................................................................................................................................................................................................................................................................................................................................................................................................................................................................................................................................................................................................................................................................................................................................................................................................................................................................................................................................................................................................................................................................................................................................."
     ]
    },
    {
     "name": "stdout",
     "output_type": "stream",
     "text": [
      "0.0012568236339979236\n",
      "[0.73487033 0.73388647 0.75796558 0.73946799 0.72690501]\n",
      "0.7386190778385228\n"
     ]
    },
    {
     "name": "stderr",
     "output_type": "stream",
     "text": [
      "...................................................................................................................................................................................................................................................................................................................................................................................................................................................................................................................[Parallel(n_jobs=1)]: Done   5 out of   5 | elapsed:    0.8s finished\n"
     ]
    }
   ],
   "source": [
    "###  Find best alpha using LassoCV\n",
    "optimal_lasso = LassoCV(n_alphas=500, cv=5, verbose=1)\n",
    "optimal_lasso.fit(X_train, y_train)\n",
    "print(optimal_lasso.alpha_)\n",
    "\n",
    "###  Cross-validate the Lasso regression  R2  with the optimal alpha\n",
    "lasso = Lasso(alpha=optimal_lasso.alpha_)\n",
    "lasso_scores = cross_val_score(lasso, X_test, y_test, scoring='r2', cv=5)\n",
    "\n",
    "print(lasso_scores)\n",
    "print(np.mean(lasso_scores)) "
   ]
  },
  {
   "cell_type": "code",
   "execution_count": 8,
   "metadata": {
    "scrolled": false
   },
   "outputs": [
    {
     "data": {
      "text/html": [
       "<div>\n",
       "<style scoped>\n",
       "    .dataframe tbody tr th:only-of-type {\n",
       "        vertical-align: middle;\n",
       "    }\n",
       "\n",
       "    .dataframe tbody tr th {\n",
       "        vertical-align: top;\n",
       "    }\n",
       "\n",
       "    .dataframe thead th {\n",
       "        text-align: right;\n",
       "    }\n",
       "</style>\n",
       "<table border=\"1\" class=\"dataframe\">\n",
       "  <thead>\n",
       "    <tr style=\"text-align: right;\">\n",
       "      <th></th>\n",
       "      <th>variable</th>\n",
       "      <th>coef</th>\n",
       "      <th>abs_coef</th>\n",
       "    </tr>\n",
       "  </thead>\n",
       "  <tbody>\n",
       "    <tr>\n",
       "      <th>9</th>\n",
       "      <td>recommend</td>\n",
       "      <td>0.812798</td>\n",
       "      <td>0.812798</td>\n",
       "    </tr>\n",
       "    <tr>\n",
       "      <th>7</th>\n",
       "      <td>value_money_rating</td>\n",
       "      <td>0.258895</td>\n",
       "      <td>0.258895</td>\n",
       "    </tr>\n",
       "    <tr>\n",
       "      <th>3</th>\n",
       "      <td>seat_comfort_rating</td>\n",
       "      <td>0.169488</td>\n",
       "      <td>0.169488</td>\n",
       "    </tr>\n",
       "    <tr>\n",
       "      <th>4</th>\n",
       "      <td>cabin_staff_rating</td>\n",
       "      <td>0.163820</td>\n",
       "      <td>0.163820</td>\n",
       "    </tr>\n",
       "    <tr>\n",
       "      <th>5</th>\n",
       "      <td>food_beverages_rating</td>\n",
       "      <td>0.051809</td>\n",
       "      <td>0.051809</td>\n",
       "    </tr>\n",
       "    <tr>\n",
       "      <th>2</th>\n",
       "      <td>author_country</td>\n",
       "      <td>0.033612</td>\n",
       "      <td>0.033612</td>\n",
       "    </tr>\n",
       "    <tr>\n",
       "      <th>1</th>\n",
       "      <td>airline_name</td>\n",
       "      <td>0.011770</td>\n",
       "      <td>0.011770</td>\n",
       "    </tr>\n",
       "    <tr>\n",
       "      <th>6</th>\n",
       "      <td>inflight_entertainment_rating</td>\n",
       "      <td>0.005502</td>\n",
       "      <td>0.005502</td>\n",
       "    </tr>\n",
       "    <tr>\n",
       "      <th>8</th>\n",
       "      <td>cabin_flown</td>\n",
       "      <td>-0.005298</td>\n",
       "      <td>0.005298</td>\n",
       "    </tr>\n",
       "    <tr>\n",
       "      <th>0</th>\n",
       "      <td>Intercept</td>\n",
       "      <td>0.000000</td>\n",
       "      <td>0.000000</td>\n",
       "    </tr>\n",
       "  </tbody>\n",
       "</table>\n",
       "</div>"
      ],
      "text/plain": [
       "                        variable      coef  abs_coef\n",
       "9                      recommend  0.812798  0.812798\n",
       "7             value_money_rating  0.258895  0.258895\n",
       "3            seat_comfort_rating  0.169488  0.169488\n",
       "4             cabin_staff_rating  0.163820  0.163820\n",
       "5          food_beverages_rating  0.051809  0.051809\n",
       "2                 author_country  0.033612  0.033612\n",
       "1                   airline_name  0.011770  0.011770\n",
       "6  inflight_entertainment_rating  0.005502  0.005502\n",
       "8                    cabin_flown -0.005298  0.005298\n",
       "0                      Intercept  0.000000  0.000000"
      ]
     },
     "execution_count": 8,
     "metadata": {},
     "output_type": "execute_result"
    }
   ],
   "source": [
    "lasso.fit(X_train, y_train)\n",
    "lasso.predict(X_test)\n",
    "lasso_coefs = pd.DataFrame({'variable':X.columns,\n",
    "                            'coef':lasso.coef_,\n",
    "                            'abs_coef':np.abs(lasso.coef_)})\n",
    "lasso_coefs.sort_values('abs_coef', inplace=True, ascending=False)\n",
    "lasso_coefs"
   ]
  },
  {
   "cell_type": "code",
   "execution_count": 9,
   "metadata": {},
   "outputs": [
    {
     "data": {
      "text/plain": [
       "<matplotlib.axes._subplots.AxesSubplot at 0x1c2972fb048>"
      ]
     },
     "execution_count": 9,
     "metadata": {},
     "output_type": "execute_result"
    },
    {
     "data": {
      "image/png": "[encoded data removed]",
      "text/plain": [
       "<Figure size 864x504 with 1 Axes>"
      ]
     },
     "metadata": {
      "image/png": {
       "height": 564,
       "width": 708
      },
      "needs_background": "light"
     },
     "output_type": "display_data"
    }
   ],
   "source": [
    "lasso_coefs.plot(kind='bar', x='variable', figsize=(12,7), y='coef')"
   ]
  },
  {
   "cell_type": "markdown",
   "metadata": {},
   "source": [
    "##### ****  Use GridSearch on Lasso"
   ]
  },
  {
   "cell_type": "code",
   "execution_count": 10,
   "metadata": {},
   "outputs": [
    {
     "name": "stdout",
     "output_type": "stream",
     "text": [
      "Fitting 5 folds for each of 144 candidates, totalling 720 fits\n"
     ]
    },
    {
     "name": "stderr",
     "output_type": "stream",
     "text": [
      "[Parallel(n_jobs=1)]: Using backend SequentialBackend with 1 concurrent workers.\n"
     ]
    },
    {
     "name": "stdout",
     "output_type": "stream",
     "text": [
      "0.7348016672392862\n",
      "{'alpha': 0.0001, 'copy_X': True, 'fit_intercept': True, 'max_iter': 1000, 'normalize': False, 'positive': False, 'precompute': False, 'random_state': None, 'selection': 'cyclic', 'tol': 0.0001, 'warm_start': False}\n"
     ]
    },
    {
     "name": "stderr",
     "output_type": "stream",
     "text": [
      "[Parallel(n_jobs=1)]: Done 720 out of 720 | elapsed:    3.6s finished\n"
     ]
    }
   ],
   "source": [
    "lasso = Lasso()\n",
    "parameters = {'alpha':[1e-04,2e-03,0.01,0.1,0.5,0.7,1,2,5], \n",
    "              'normalize':[True,False], \n",
    "              'tol':[1e-07,1e-06,2e-05,5e-05,1e-04,5e-04,2e-03,1e-02]}\n",
    "\n",
    "gridsearch_lasso = GridSearchCV(lasso, parameters, cv=5, verbose=1)\n",
    "gridsearch_lasso.fit(X_train, y_train)\n",
    "\n",
    "print(gridsearch_lasso.best_score_)\n",
    "print(gridsearch_lasso.best_estimator_.get_params())\n",
    "\n",
    "y_pred_lasso1 = gridsearch_lasso.best_estimator_.predict(X_test).reshape(-1,1)\n",
    "\n",
    "mse_lasso = mean_squared_error(y_test, y_pred_lasso1)\n",
    "rmse_lasso = np.sqrt(mse_lasso)"
   ]
  },
  {
   "cell_type": "code",
   "execution_count": 11,
   "metadata": {},
   "outputs": [
    {
     "name": "stdout",
     "output_type": "stream",
     "text": [
      "[0.24920817 0.25248457 0.25241348 0.24935414 0.24996846]\n",
      "Mean: 0.25068576640339607 Std: 0.0014623109063111575\n",
      "RMSE: 0.7764990610852339\n"
     ]
    }
   ],
   "source": [
    "scores_lasso = cross_val_score(lasso, X_train, y_train, scoring='r2', cv=5)\n",
    "print(scores_lasso)\n",
    "print(\"Mean:\", np.mean(scores_lasso), \"Std:\", np.std(scores_lasso))\n",
    "print(\"RMSE:\", rmse_lasso)"
   ]
  },
  {
   "cell_type": "markdown",
   "metadata": {},
   "source": [
    "##### ****** ElasticNet ******"
   ]
  },
  {
   "cell_type": "code",
   "execution_count": 12,
   "metadata": {},
   "outputs": [
    {
     "name": "stdout",
     "output_type": "stream",
     "text": [
      "0.03590924668565496\n",
      "0.035\n",
      "[0.73418197 0.73376404 0.75727881 0.73897494 0.7262648 ]\n",
      "0.7380929115929332\n"
     ]
    }
   ],
   "source": [
    "###  Find best alpha and l1_ratio using ElasticNetCV\n",
    "l1_ratios = np.linspace(0.01, 0.035, 25)\n",
    "\n",
    "optimal_enet = ElasticNetCV(l1_ratio=l1_ratios, n_alphas=1, cv=5)\n",
    "optimal_enet.fit(X_train, y_train)\n",
    "print(optimal_enet.alpha_)\n",
    "print(optimal_enet.l1_ratio_)\n",
    "\n",
    "enet = ElasticNet(alpha=optimal_enet.alpha_, l1_ratio=optimal_enet.l1_ratio_)\n",
    "enet_scores = cross_val_score(enet, X_test, y_test, scoring='r2', cv=5)\n",
    "\n",
    "print(enet_scores)\n",
    "print(np.mean(enet_scores))"
   ]
  },
  {
   "cell_type": "markdown",
   "metadata": {},
   "source": [
    "##### ****  Use Random Forest"
   ]
  },
  {
   "cell_type": "code",
   "execution_count": 13,
   "metadata": {
    "scrolled": true
   },
   "outputs": [
    {
     "data": {
      "text/plain": [
       "RandomForestRegressor(bootstrap=True, criterion='mse', max_depth=None,\n",
       "           max_features='auto', max_leaf_nodes=None,\n",
       "           min_impurity_decrease=0.0, min_impurity_split=None,\n",
       "           min_samples_leaf=1, min_samples_split=2,\n",
       "           min_weight_fraction_leaf=0.0, n_estimators=1000, n_jobs=None,\n",
       "           oob_score=False, random_state=5, verbose=0, warm_start=False)"
      ]
     },
     "execution_count": 13,
     "metadata": {},
     "output_type": "execute_result"
    }
   ],
   "source": [
    "rf = RandomForestRegressor(n_estimators = 1000, random_state = 5)\n",
    "rf.fit(X_train,y_train)"
   ]
  },
  {
   "cell_type": "code",
   "execution_count": 14,
   "metadata": {},
   "outputs": [
    {
     "name": "stdout",
     "output_type": "stream",
     "text": [
      "0.7652322222575282\n"
     ]
    }
   ],
   "source": [
    "print(cross_val_score(rf,X_test,y_test,cv=10,scoring='explained_variance', verbose=False).mean())"
   ]
  },
  {
   "cell_type": "code",
   "execution_count": 15,
   "metadata": {},
   "outputs": [
    {
     "name": "stdout",
     "output_type": "stream",
     "text": [
      "Fitting 8 folds for each of 3 candidates, totalling 24 fits\n"
     ]
    },
    {
     "name": "stderr",
     "output_type": "stream",
     "text": [
      "[Parallel(n_jobs=-1)]: Using backend LokyBackend with 12 concurrent workers.\n",
      "[Parallel(n_jobs=-1)]: Done  14 out of  24 | elapsed:  2.5min remaining:  1.8min\n",
      "[Parallel(n_jobs=-1)]: Done  24 out of  24 | elapsed:  2.8min finished\n"
     ]
    },
    {
     "data": {
      "text/plain": [
       "RandomizedSearchCV(cv=8, error_score='raise-deprecating',\n",
       "          estimator=RandomForestRegressor(bootstrap=True, criterion='mse', max_depth=None,\n",
       "           max_features='auto', max_leaf_nodes=None,\n",
       "           min_impurity_decrease=0.0, min_impurity_split=None,\n",
       "           min_samples_leaf=1, min_samples_split=2,\n",
       "           min_weight_fraction_leaf=0.0, n_estimators='warn', n_jobs=None,\n",
       "           oob_score=False, random_state=None, verbose=0, warm_start=False),\n",
       "          fit_params=None, iid='warn', n_iter=5, n_jobs=-1,\n",
       "          param_distributions={'criterion': ['mse'], 'max_depth': [80], 'max_features': ['auto'], 'n_estimators': [1100, 1200, 1300], 'min_samples_leaf': [2], 'min_samples_split': [2]},\n",
       "          pre_dispatch='2*n_jobs', random_state=5, refit=True,\n",
       "          return_train_score='warn', scoring=None, verbose=2)"
      ]
     },
     "execution_count": 15,
     "metadata": {},
     "output_type": "execute_result"
    }
   ],
   "source": [
    "rf_param={\n",
    "    'criterion': ['mse'],\n",
    "    'max_depth': [80],\n",
    "    'max_features': ['auto'],\n",
    "    'n_estimators': [1100,1200,1300],\n",
    "    'min_samples_leaf': [2],\n",
    "    'min_samples_split': [2]\n",
    "}\n",
    "rf = RandomForestRegressor()\n",
    "rf_random = RandomizedSearchCV(estimator=rf,param_distributions=rf_param,n_iter=5,cv=8,verbose=2,random_state=5,n_jobs=-1)\n",
    "rf_random.fit(X_train,y_train)"
   ]
  },
  {
   "cell_type": "markdown",
   "metadata": {},
   "source": [
    "'explained_variance'\n",
    "‘neg_mean_squared_error’\n",
    "‘neg_mean_absolute_error’\n",
    "‘neg_mean_squared_log_error’\n",
    "‘neg_median_absolute_error’"
   ]
  },
  {
   "cell_type": "code",
   "execution_count": 16,
   "metadata": {
    "scrolled": true
   },
   "outputs": [
    {
     "name": "stdout",
     "output_type": "stream",
     "text": [
      "0.7790225008728552\n",
      "{'n_estimators': 1100, 'min_samples_split': 2, 'min_samples_leaf': 2, 'max_features': 'auto', 'max_depth': 80, 'criterion': 'mse'}\n",
      "0.7752411386272382\n"
     ]
    }
   ],
   "source": [
    "print(rf_random.best_score_)\n",
    "print(rf_random.best_params_)\n",
    "model=rf_random.best_estimator_\n",
    "print(cross_val_score(model,X_test,y_test,cv=8,scoring='explained_variance',verbose=False).mean())"
   ]
  },
  {
   "cell_type": "markdown",
   "metadata": {},
   "source": [
    "##### ****  Use RFECV for feature selection"
   ]
  },
  {
   "cell_type": "code",
   "execution_count": 17,
   "metadata": {
    "scrolled": true
   },
   "outputs": [
    {
     "name": "stdout",
     "output_type": "stream",
     "text": [
      "Fitting estimator with 10 features.\n",
      "Fitting estimator with 9 features.\n",
      "Fitting estimator with 8 features.\n",
      "Number of features selected by RFE: 7 \n",
      "\n",
      "Index(['airline_name', 'author_country', 'seat_comfort_rating',\n",
      "       'cabin_staff_rating', 'food_beverages_rating', 'value_money_rating',\n",
      "       'recommend'],\n",
      "      dtype='object') \n",
      "\n",
      "[4 1 1 1 1 1 3 1 2 1]\n"
     ]
    }
   ],
   "source": [
    "# Use feature selection to identify relevant features\n",
    "from sklearn.feature_selection import RFECV\n",
    "\n",
    "rfe_lr = LinearRegression()\n",
    "rfe1 = RFECV(rfe_lr, step=1, cv=10, n_jobs=-1, verbose=1)\n",
    "rfe1.fit(X_train, y_train)\n",
    "\n",
    "print('Number of features selected by RFE: {}'.format(rfe1.n_features_),'\\n')\n",
    "rfe1_list = X.columns[rfe1.support_]\n",
    "\n",
    "print(rfe1_list,'\\n')\n",
    "print(rfe1.ranking_)"
   ]
  },
  {
   "cell_type": "markdown",
   "metadata": {},
   "source": [
    "##### ****  PCA with Stochastic Gradient Descent"
   ]
  },
  {
   "cell_type": "code",
   "execution_count": 18,
   "metadata": {},
   "outputs": [
    {
     "name": "stdout",
     "output_type": "stream",
     "text": [
      "0.7387523447674941\n"
     ]
    },
    {
     "data": {
      "text/plain": [
       "10"
      ]
     },
     "execution_count": 18,
     "metadata": {},
     "output_type": "execute_result"
    }
   ],
   "source": [
    "from sklearn.decomposition import PCA\n",
    "from sklearn.linear_model import SGDRegressor\n",
    "\n",
    "n_list=[x for x in range(1,11,1)]\n",
    "score_list=[]\n",
    "for n in range(1,11,1):\n",
    "    pca = PCA(n_components=n)\n",
    "    pca.fit(X_train)\n",
    "    X_train2 = pca.transform(X_train)\n",
    "    X_test2 = pca.transform(X_test)\n",
    "    \n",
    "    sgd_reg = SGDRegressor()\n",
    "    selector = RFECV(sgd_reg, step=1, cv=5,scoring='r2')\n",
    "    selector = selector.fit(X_train2, y_train)\n",
    "    score_list.append(selector.score(X_test2,y_test))\n",
    "    \n",
    "print(np.array(score_list).max())\n",
    "score_list.index(np.array(score_list).max())+1"
   ]
  },
  {
   "cell_type": "markdown",
   "metadata": {},
   "source": [
    "-----"
   ]
  },
  {
   "cell_type": "markdown",
   "metadata": {},
   "source": [
    "### Which aspect of a flight best predicts if a customer would \"recommend\" the airline?"
   ]
  },
  {
   "cell_type": "code",
   "execution_count": 20,
   "metadata": {
    "scrolled": true
   },
   "outputs": [],
   "source": [
    "formula = 'recommend ~ airline + overall_rating + author_country + seat_comfort_rating + cabin_staff_rating + food_beverages_rating + inflight_entertainment_rating + ground_service_rating + wifi_connectivity_rating + value_money_rating + cabin_flown'\n",
    "y = y.ravel()\n"
   ]
  },
  {
   "cell_type": "code",
   "execution_count": 22,
   "metadata": {},
   "outputs": [],
   "source": [
    "X_train, X_test, y_train, y_test = train_test_split(Xs, y, train_size=.7)"
   ]
  },
  {
   "cell_type": "markdown",
   "metadata": {},
   "source": [
    "##### ****  Use RFECV for feature selection"
   ]
  },
  {
   "cell_type": "code",
   "execution_count": 23,
   "metadata": {
    "scrolled": true
   },
   "outputs": [
    {
     "name": "stdout",
     "output_type": "stream",
     "text": [
      "Fitting estimator with 10 features.\n",
      "Number of features selected by RFE: 9 \n",
      "\n",
      "Index(['airline_name', 'author_country', 'seat_comfort_rating',\n",
      "       'cabin_staff_rating', 'food_beverages_rating',\n",
      "       'inflight_entertainment_rating', 'value_money_rating', 'cabin_flown',\n",
      "       'recommend'],\n",
      "      dtype='object') \n",
      "\n",
      "[2 1 1 1 1 1 1 1 1 1]\n"
     ]
    }
   ],
   "source": [
    "# Use feature selection to identify relevant features\n",
    "from sklearn.feature_selection import RFECV\n",
    "\n",
    "rfe_lr = LinearRegression()\n",
    "rfe1 = RFECV(rfe_lr, step=1, cv=10, n_jobs=-1, verbose=1)\n",
    "rfe1.fit(X_train, y_train)\n",
    "\n",
    "print('Number of features selected by RFE: {}'.format(rfe1.n_features_),'\\n')\n",
    "rfe1_list = X.columns[rfe1.support_]\n",
    "\n",
    "print(rfe1_list,'\\n')\n",
    "print(rfe1.ranking_)"
   ]
  },
  {
   "cell_type": "markdown",
   "metadata": {},
   "source": [
    "##### ****** Lasso ******"
   ]
  },
  {
   "cell_type": "code",
   "execution_count": 24,
   "metadata": {},
   "outputs": [
    {
     "name": "stderr",
     "output_type": "stream",
     "text": [
      "[Parallel(n_jobs=1)]: Using backend SequentialBackend with 1 concurrent workers.\n",
      "....................................................................................................................................................................................................................................................................................................................................................................................................................................................................................................................................................................................................................................................................................................................................................................................................................................................................................................................................................................................................................................................................................................................................................................................................................................................................................................................................................................................................................................................................................................................................................................................................................................................................................................................................................................................................................................................................................................................................................................................................................................................................................................................................................................................................................................................................................................................................................................................................................................................................................................................................................................................................[Parallel(n_jobs=1)]: Done   5 out of   5 | elapsed:    1.0s finished\n"
     ]
    },
    {
     "name": "stdout",
     "output_type": "stream",
     "text": [
      "0.0012619008193788187\n",
      "[0.73153199 0.73572846 0.72738607 0.73370251 0.74899   ]\n",
      "0.7354678058278067\n"
     ]
    }
   ],
   "source": [
    "###  Find best alpha using LassoCV\n",
    "optimal_lasso = LassoCV(n_alphas=500, cv=5, verbose=1)\n",
    "optimal_lasso.fit(X_train, y_train)\n",
    "print(optimal_lasso.alpha_)\n",
    "\n",
    "###  Cross-validate the Lasso regression  R2  with the optimal alpha\n",
    "lasso = Lasso(alpha=optimal_lasso.alpha_)\n",
    "lasso_scores = cross_val_score(lasso, X_test, y_test, cv=5)\n",
    "\n",
    "print(lasso_scores)\n",
    "print(np.mean(lasso_scores)) "
   ]
  },
  {
   "cell_type": "code",
   "execution_count": 25,
   "metadata": {},
   "outputs": [],
   "source": [
    "lasso.fit(X_train, y_train)\n",
    "lasso.predict(X_test)\n",
    "lasso_coefs = pd.DataFrame({'variable':X.columns,\n",
    "                            'coef':lasso.coef_,\n",
    "                            'abs_coef':np.abs(lasso.coef_)})\n",
    "lasso_coefs.sort_values('abs_coef', inplace=True, ascending=False)"
   ]
  },
  {
   "cell_type": "code",
   "execution_count": 26,
   "metadata": {},
   "outputs": [
    {
     "data": {
      "text/html": [
       "<div>\n",
       "<style scoped>\n",
       "    .dataframe tbody tr th:only-of-type {\n",
       "        vertical-align: middle;\n",
       "    }\n",
       "\n",
       "    .dataframe tbody tr th {\n",
       "        vertical-align: top;\n",
       "    }\n",
       "\n",
       "    .dataframe thead th {\n",
       "        text-align: right;\n",
       "    }\n",
       "</style>\n",
       "<table border=\"1\" class=\"dataframe\">\n",
       "  <thead>\n",
       "    <tr style=\"text-align: right;\">\n",
       "      <th></th>\n",
       "      <th>variable</th>\n",
       "      <th>coef</th>\n",
       "      <th>abs_coef</th>\n",
       "    </tr>\n",
       "  </thead>\n",
       "  <tbody>\n",
       "    <tr>\n",
       "      <th>9</th>\n",
       "      <td>recommend</td>\n",
       "      <td>0.824166</td>\n",
       "      <td>0.824166</td>\n",
       "    </tr>\n",
       "    <tr>\n",
       "      <th>7</th>\n",
       "      <td>value_money_rating</td>\n",
       "      <td>0.252877</td>\n",
       "      <td>0.252877</td>\n",
       "    </tr>\n",
       "    <tr>\n",
       "      <th>4</th>\n",
       "      <td>cabin_staff_rating</td>\n",
       "      <td>0.167568</td>\n",
       "      <td>0.167568</td>\n",
       "    </tr>\n",
       "    <tr>\n",
       "      <th>3</th>\n",
       "      <td>seat_comfort_rating</td>\n",
       "      <td>0.164360</td>\n",
       "      <td>0.164360</td>\n",
       "    </tr>\n",
       "    <tr>\n",
       "      <th>5</th>\n",
       "      <td>food_beverages_rating</td>\n",
       "      <td>0.043844</td>\n",
       "      <td>0.043844</td>\n",
       "    </tr>\n",
       "    <tr>\n",
       "      <th>2</th>\n",
       "      <td>author_country</td>\n",
       "      <td>0.035923</td>\n",
       "      <td>0.035923</td>\n",
       "    </tr>\n",
       "    <tr>\n",
       "      <th>1</th>\n",
       "      <td>airline_name</td>\n",
       "      <td>0.010370</td>\n",
       "      <td>0.010370</td>\n",
       "    </tr>\n",
       "    <tr>\n",
       "      <th>6</th>\n",
       "      <td>inflight_entertainment_rating</td>\n",
       "      <td>0.007912</td>\n",
       "      <td>0.007912</td>\n",
       "    </tr>\n",
       "    <tr>\n",
       "      <th>8</th>\n",
       "      <td>cabin_flown</td>\n",
       "      <td>-0.005826</td>\n",
       "      <td>0.005826</td>\n",
       "    </tr>\n",
       "    <tr>\n",
       "      <th>0</th>\n",
       "      <td>Intercept</td>\n",
       "      <td>0.000000</td>\n",
       "      <td>0.000000</td>\n",
       "    </tr>\n",
       "  </tbody>\n",
       "</table>\n",
       "</div>"
      ],
      "text/plain": [
       "                        variable      coef  abs_coef\n",
       "9                      recommend  0.824166  0.824166\n",
       "7             value_money_rating  0.252877  0.252877\n",
       "4             cabin_staff_rating  0.167568  0.167568\n",
       "3            seat_comfort_rating  0.164360  0.164360\n",
       "5          food_beverages_rating  0.043844  0.043844\n",
       "2                 author_country  0.035923  0.035923\n",
       "1                   airline_name  0.010370  0.010370\n",
       "6  inflight_entertainment_rating  0.007912  0.007912\n",
       "8                    cabin_flown -0.005826  0.005826\n",
       "0                      Intercept  0.000000  0.000000"
      ]
     },
     "execution_count": 26,
     "metadata": {},
     "output_type": "execute_result"
    }
   ],
   "source": [
    "lasso_coefs"
   ]
  },
  {
   "cell_type": "code",
   "execution_count": 27,
   "metadata": {
    "scrolled": false
   },
   "outputs": [
    {
     "data": {
      "text/plain": [
       "<matplotlib.axes._subplots.AxesSubplot at 0x1c299745550>"
      ]
     },
     "execution_count": 27,
     "metadata": {},
     "output_type": "execute_result"
    },
    {
     "data": {
      "image/png": "[encoded data removed]",
      "text/plain": [
       "<Figure size 864x504 with 1 Axes>"
      ]
     },
     "metadata": {
      "image/png": {
       "height": 564,
       "width": 708
      },
      "needs_background": "light"
     },
     "output_type": "display_data"
    }
   ],
   "source": [
    "lasso_coefs.plot(kind='bar', x='variable', figsize=(12,7), y='coef')"
   ]
  },
  {
   "cell_type": "code",
   "execution_count": 28,
   "metadata": {},
   "outputs": [
    {
     "data": {
      "text/plain": [
       "RandomForestRegressor(bootstrap=True, criterion='mse', max_depth=None,\n",
       "           max_features='auto', max_leaf_nodes=None,\n",
       "           min_impurity_decrease=0.0, min_impurity_split=None,\n",
       "           min_samples_leaf=1, min_samples_split=2,\n",
       "           min_weight_fraction_leaf=0.0, n_estimators=1000, n_jobs=None,\n",
       "           oob_score=False, random_state=5, verbose=0, warm_start=False)"
      ]
     },
     "execution_count": 28,
     "metadata": {},
     "output_type": "execute_result"
    }
   ],
   "source": [
    "rf = RandomForestRegressor(n_estimators = 1000, random_state = 5)\n",
    "rf.fit(X_train,y_train)"
   ]
  },
  {
   "cell_type": "code",
   "execution_count": 29,
   "metadata": {},
   "outputs": [
    {
     "name": "stdout",
     "output_type": "stream",
     "text": [
      "0.7633264089798526\n"
     ]
    }
   ],
   "source": [
    "print(cross_val_score(rf,X_test,y_test,cv=10,scoring='explained_variance',verbose=False).mean())"
   ]
  },
  {
   "cell_type": "code",
   "execution_count": 30,
   "metadata": {
    "scrolled": true
   },
   "outputs": [
    {
     "name": "stdout",
     "output_type": "stream",
     "text": [
      "Fitting 8 folds for each of 3 candidates, totalling 24 fits\n"
     ]
    },
    {
     "name": "stderr",
     "output_type": "stream",
     "text": [
      "[Parallel(n_jobs=-1)]: Using backend LokyBackend with 12 concurrent workers.\n",
      "[Parallel(n_jobs=-1)]: Done  14 out of  24 | elapsed:  2.4min remaining:  1.7min\n",
      "[Parallel(n_jobs=-1)]: Done  24 out of  24 | elapsed:  2.8min finished\n"
     ]
    },
    {
     "data": {
      "text/plain": [
       "RandomizedSearchCV(cv=8, error_score='raise-deprecating',\n",
       "          estimator=RandomForestRegressor(bootstrap=True, criterion='mse', max_depth=None,\n",
       "           max_features='auto', max_leaf_nodes=None,\n",
       "           min_impurity_decrease=0.0, min_impurity_split=None,\n",
       "           min_samples_leaf=1, min_samples_split=2,\n",
       "           min_weight_fraction_leaf=0.0, n_estimators='warn', n_jobs=None,\n",
       "           oob_score=False, random_state=None, verbose=0, warm_start=False),\n",
       "          fit_params=None, iid='warn', n_iter=5, n_jobs=-1,\n",
       "          param_distributions={'criterion': ['mse'], 'max_depth': [80], 'max_features': ['auto'], 'n_estimators': [1100, 1200, 1300], 'min_samples_leaf': [2], 'min_samples_split': [2]},\n",
       "          pre_dispatch='2*n_jobs', random_state=5, refit=True,\n",
       "          return_train_score='warn', scoring=None, verbose=2)"
      ]
     },
     "execution_count": 30,
     "metadata": {},
     "output_type": "execute_result"
    }
   ],
   "source": [
    "rf_param={\n",
    "    'criterion': ['mse'],\n",
    "    'max_depth': [80],\n",
    "    'max_features': ['auto'],\n",
    "    'n_estimators': [1100,1200,1300],\n",
    "    'min_samples_leaf': [2],\n",
    "    'min_samples_split': [2]\n",
    "}\n",
    "rf = RandomForestRegressor()\n",
    "rf_random = RandomizedSearchCV(estimator=rf,param_distributions=rf_param,n_iter=5,cv=8,verbose=2,random_state=5,n_jobs=-1)\n",
    "rf_random.fit(X_train,y_train)"
   ]
  },
  {
   "cell_type": "code",
   "execution_count": 31,
   "metadata": {},
   "outputs": [
    {
     "name": "stdout",
     "output_type": "stream",
     "text": [
      "0.7810246792301344\n",
      "{'n_estimators': 1200, 'min_samples_split': 2, 'min_samples_leaf': 2, 'max_features': 'auto', 'max_depth': 80, 'criterion': 'mse'}\n",
      "0.7730839619645897\n"
     ]
    }
   ],
   "source": [
    "print(rf_random.best_score_)\n",
    "print(rf_random.best_params_)\n",
    "model=rf_random.best_estimator_\n",
    "\n",
    "print(cross_val_score(model,X_test,y_test,cv=8,scoring='r2',verbose=False).mean())"
   ]
  },
  {
   "cell_type": "markdown",
   "metadata": {},
   "source": [
    "‘neg_mean_squared_error’\n",
    "‘neg_mean_absolute_error’\n",
    "‘neg_mean_squared_log_error’\n",
    "‘neg_median_absolute_error’\n",
    "‘r2’"
   ]
  }
 ],
 "metadata": {
  "kernelspec": {
   "display_name": "Python 3",
   "language": "python",
   "name": "python3"
  },
  "language_info": {
   "codemirror_mode": {
    "name": "ipython",
    "version": 3
   },
   "file_extension": ".py",
   "mimetype": "text/x-python",
   "name": "python",
   "nbconvert_exporter": "python",
   "pygments_lexer": "ipython3",
   "version": "3.6.8"
  }
 },
 "nbformat": 4,
 "nbformat_minor": 2
}
