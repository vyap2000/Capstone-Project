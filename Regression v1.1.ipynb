{
 "cells": [
  {
   "cell_type": "markdown",
   "metadata": {},
   "source": [
    "##### Which aspect of a flight best predicts a customers' overall rating of an airline?"
   ]
  },
  {
   "cell_type": "code",
   "execution_count": 10,
   "metadata": {},
   "outputs": [],
   "source": [
    "from sklearn.linear_model import LinearRegression, Ridge, Lasso, ElasticNet, RidgeCV, LassoCV, ElasticNetCV\n",
    "from sklearn.model_selection import cross_val_score, train_test_split, GridSearchCV\n",
    "from sklearn.ensemble import RandomForestRegressor\n",
    "from sklearn.model_selection import RandomizedSearchCV\n",
    "from sklearn.preprocessing import StandardScaler\n",
    "from sklearn.metrics import mean_squared_error, r2_score\n",
    "import numpy as np\n",
    "import pickle\n",
    "import patsy\n",
    "import seaborn as sns\n",
    "import matplotlib.pyplot as plt\n",
    "import pandas as pd\n",
    "import warnings\n",
    "\n",
    "%config InlineBackend.figure_format = 'retina'\n",
    "%matplotlib inline\n",
    "warnings.filterwarnings('ignore')"
   ]
  },
  {
   "cell_type": "code",
   "execution_count": 11,
   "metadata": {},
   "outputs": [],
   "source": [
    "# we open the file for reading\n",
    "fileObject4 = open(\"budget.pickle\",'rb')\n",
    "\n",
    "# load the object from the file into variables\n",
    "df = pickle.load(fileObject4) "
   ]
  },
  {
   "cell_type": "code",
   "execution_count": 12,
   "metadata": {
    "scrolled": true
   },
   "outputs": [
    {
     "data": {
      "text/html": [
       "<div>\n",
       "<style scoped>\n",
       "    .dataframe tbody tr th:only-of-type {\n",
       "        vertical-align: middle;\n",
       "    }\n",
       "\n",
       "    .dataframe tbody tr th {\n",
       "        vertical-align: top;\n",
       "    }\n",
       "\n",
       "    .dataframe thead th {\n",
       "        text-align: right;\n",
       "    }\n",
       "</style>\n",
       "<table border=\"1\" class=\"dataframe\">\n",
       "  <thead>\n",
       "    <tr style=\"text-align: right;\">\n",
       "      <th></th>\n",
       "      <th>airline_name</th>\n",
       "      <th>author_country</th>\n",
       "      <th>content</th>\n",
       "      <th>cabin_flown</th>\n",
       "      <th>overall_rating</th>\n",
       "      <th>seat_comfort_rating</th>\n",
       "      <th>cabin_staff_rating</th>\n",
       "      <th>food_beverages_rating</th>\n",
       "      <th>inflight_entertainment_rating</th>\n",
       "      <th>ground_service_rating</th>\n",
       "      <th>wifi_connectivity_rating</th>\n",
       "      <th>value_money_rating</th>\n",
       "      <th>recommend</th>\n",
       "      <th>airline</th>\n",
       "      <th>cabin_class</th>\n",
       "      <th>overall</th>\n",
       "    </tr>\n",
       "  </thead>\n",
       "  <tbody>\n",
       "    <tr>\n",
       "      <th>109</th>\n",
       "      <td>51</td>\n",
       "      <td>7</td>\n",
       "      <td>DPS-SIN. Efficient check in and boarding. Flig...</td>\n",
       "      <td>1</td>\n",
       "      <td>8.0</td>\n",
       "      <td>4.0</td>\n",
       "      <td>4.0</td>\n",
       "      <td>4.0</td>\n",
       "      <td>3.0</td>\n",
       "      <td>3.0</td>\n",
       "      <td>3.0</td>\n",
       "      <td>5.0</td>\n",
       "      <td>1</td>\n",
       "      <td>airasia</td>\n",
       "      <td>Economy</td>\n",
       "      <td>4.0</td>\n",
       "    </tr>\n",
       "    <tr>\n",
       "      <th>118</th>\n",
       "      <td>59</td>\n",
       "      <td>149</td>\n",
       "      <td>No complaints here. My flight was to Phoenix/M...</td>\n",
       "      <td>1</td>\n",
       "      <td>9.0</td>\n",
       "      <td>4.0</td>\n",
       "      <td>5.0</td>\n",
       "      <td>0.0</td>\n",
       "      <td>0.0</td>\n",
       "      <td>3.0</td>\n",
       "      <td>3.0</td>\n",
       "      <td>5.0</td>\n",
       "      <td>1</td>\n",
       "      <td>allegiant-air</td>\n",
       "      <td>Economy</td>\n",
       "      <td>4.5</td>\n",
       "    </tr>\n",
       "    <tr>\n",
       "      <th>130</th>\n",
       "      <td>131</td>\n",
       "      <td>148</td>\n",
       "      <td>This is the 4th Easyjet flight this year flew ...</td>\n",
       "      <td>1</td>\n",
       "      <td>10.0</td>\n",
       "      <td>5.0</td>\n",
       "      <td>5.0</td>\n",
       "      <td>3.0</td>\n",
       "      <td>3.0</td>\n",
       "      <td>3.0</td>\n",
       "      <td>3.0</td>\n",
       "      <td>5.0</td>\n",
       "      <td>1</td>\n",
       "      <td>easyjet</td>\n",
       "      <td>Economy</td>\n",
       "      <td>5.0</td>\n",
       "    </tr>\n",
       "    <tr>\n",
       "      <th>172</th>\n",
       "      <td>147</td>\n",
       "      <td>77</td>\n",
       "      <td>I flew with fly540 from to Nairobi to Eldoret ...</td>\n",
       "      <td>1</td>\n",
       "      <td>9.0</td>\n",
       "      <td>3.0</td>\n",
       "      <td>3.0</td>\n",
       "      <td>3.0</td>\n",
       "      <td>3.0</td>\n",
       "      <td>3.0</td>\n",
       "      <td>3.0</td>\n",
       "      <td>4.0</td>\n",
       "      <td>1</td>\n",
       "      <td>fly540-com</td>\n",
       "      <td>Economy</td>\n",
       "      <td>4.5</td>\n",
       "    </tr>\n",
       "    <tr>\n",
       "      <th>173</th>\n",
       "      <td>146</td>\n",
       "      <td>7</td>\n",
       "      <td>10/8/12 I flew SZB to PEN. It was a short and ...</td>\n",
       "      <td>1</td>\n",
       "      <td>8.0</td>\n",
       "      <td>3.0</td>\n",
       "      <td>3.0</td>\n",
       "      <td>3.0</td>\n",
       "      <td>3.0</td>\n",
       "      <td>3.0</td>\n",
       "      <td>3.0</td>\n",
       "      <td>4.0</td>\n",
       "      <td>1</td>\n",
       "      <td>firefly</td>\n",
       "      <td>Economy</td>\n",
       "      <td>4.0</td>\n",
       "    </tr>\n",
       "  </tbody>\n",
       "</table>\n",
       "</div>"
      ],
      "text/plain": [
       "     airline_name  author_country  \\\n",
       "109            51               7   \n",
       "118            59             149   \n",
       "130           131             148   \n",
       "172           147              77   \n",
       "173           146               7   \n",
       "\n",
       "                                               content  cabin_flown  \\\n",
       "109  DPS-SIN. Efficient check in and boarding. Flig...            1   \n",
       "118  No complaints here. My flight was to Phoenix/M...            1   \n",
       "130  This is the 4th Easyjet flight this year flew ...            1   \n",
       "172  I flew with fly540 from to Nairobi to Eldoret ...            1   \n",
       "173  10/8/12 I flew SZB to PEN. It was a short and ...            1   \n",
       "\n",
       "     overall_rating  seat_comfort_rating  cabin_staff_rating  \\\n",
       "109             8.0                  4.0                 4.0   \n",
       "118             9.0                  4.0                 5.0   \n",
       "130            10.0                  5.0                 5.0   \n",
       "172             9.0                  3.0                 3.0   \n",
       "173             8.0                  3.0                 3.0   \n",
       "\n",
       "     food_beverages_rating  inflight_entertainment_rating  \\\n",
       "109                    4.0                            3.0   \n",
       "118                    0.0                            0.0   \n",
       "130                    3.0                            3.0   \n",
       "172                    3.0                            3.0   \n",
       "173                    3.0                            3.0   \n",
       "\n",
       "     ground_service_rating  wifi_connectivity_rating  value_money_rating  \\\n",
       "109                    3.0                       3.0                 5.0   \n",
       "118                    3.0                       3.0                 5.0   \n",
       "130                    3.0                       3.0                 5.0   \n",
       "172                    3.0                       3.0                 4.0   \n",
       "173                    3.0                       3.0                 4.0   \n",
       "\n",
       "     recommend        airline cabin_class  overall  \n",
       "109          1        airasia     Economy      4.0  \n",
       "118          1  allegiant-air     Economy      4.5  \n",
       "130          1        easyjet     Economy      5.0  \n",
       "172          1     fly540-com     Economy      4.5  \n",
       "173          1        firefly     Economy      4.0  "
      ]
     },
     "execution_count": 12,
     "metadata": {},
     "output_type": "execute_result"
    }
   ],
   "source": [
    "df.head()"
   ]
  },
  {
   "cell_type": "code",
   "execution_count": 13,
   "metadata": {},
   "outputs": [
    {
     "data": {
      "text/plain": [
       "Index(['airline_name', 'author_country', 'content', 'cabin_flown',\n",
       "       'overall_rating', 'seat_comfort_rating', 'cabin_staff_rating',\n",
       "       'food_beverages_rating', 'inflight_entertainment_rating',\n",
       "       'ground_service_rating', 'wifi_connectivity_rating',\n",
       "       'value_money_rating', 'recommend', 'airline', 'cabin_class', 'overall'],\n",
       "      dtype='object')"
      ]
     },
     "execution_count": 13,
     "metadata": {},
     "output_type": "execute_result"
    }
   ],
   "source": [
    "df.columns"
   ]
  },
  {
   "cell_type": "code",
   "execution_count": 14,
   "metadata": {},
   "outputs": [],
   "source": [
    "formula = 'value_money_rating ~ airline_name + author_country + seat_comfort_rating + cabin_staff_rating + food_beverages_rating + inflight_entertainment_rating + cabin_flown'\n",
    "y, X = patsy.dmatrices(formula, data=df, return_type='dataframe')\n",
    "y = y.values.ravel()\n",
    "\n",
    "ss = StandardScaler()\n",
    "Xs = ss.fit_transform(X)"
   ]
  },
  {
   "cell_type": "code",
   "execution_count": 15,
   "metadata": {},
   "outputs": [],
   "source": [
    "X_train, X_test, y_train, y_test = train_test_split(Xs, y, train_size=.7)"
   ]
  },
  {
   "cell_type": "markdown",
   "metadata": {},
   "source": [
    "##### ****** Lasso ******"
   ]
  },
  {
   "cell_type": "code",
   "execution_count": 16,
   "metadata": {},
   "outputs": [
    {
     "name": "stderr",
     "output_type": "stream",
     "text": [
      "[Parallel(n_jobs=1)]: Using backend SequentialBackend with 1 concurrent workers.\n",
      "................................................................................................................................................................................................................................................................................................................................................................................................................................................................................................................................................................................................................................................................................................................................................................................................................................................................................................................................................................................................................................................................................................................................................................................................................................................................................................................................................................................................................................................................................................................................................................................................................................................................................................................................................................................................................................................................................................................................................................................................................................................................................"
     ]
    },
    {
     "name": "stdout",
     "output_type": "stream",
     "text": [
      "0.006031983664883445\n",
      "[0.53798729 0.512217   0.52967488 0.50904878 0.54588778]\n",
      "0.5269631480385832\n"
     ]
    },
    {
     "name": "stderr",
     "output_type": "stream",
     "text": [
      "....................................................................................................................................................................................................................................................................................................................................................................................................................................................................................................................[Parallel(n_jobs=1)]: Done   5 out of   5 | elapsed:    0.4s finished\n"
     ]
    }
   ],
   "source": [
    "###  Find best alpha using LassoCV\n",
    "optimal_lasso = LassoCV(n_alphas=500, cv=5, verbose=1)\n",
    "optimal_lasso.fit(X_train, y_train)\n",
    "print(optimal_lasso.alpha_)\n",
    "\n",
    "###  Cross-validate the Lasso regression  R2  with the optimal alpha\n",
    "lasso = Lasso(alpha=optimal_lasso.alpha_)\n",
    "lasso_scores = cross_val_score(lasso, X_test, y_test, scoring='r2', cv=5)\n",
    "\n",
    "print(lasso_scores)\n",
    "print(np.mean(lasso_scores)) "
   ]
  },
  {
   "cell_type": "code",
   "execution_count": 17,
   "metadata": {
    "scrolled": false
   },
   "outputs": [
    {
     "data": {
      "text/html": [
       "<div>\n",
       "<style scoped>\n",
       "    .dataframe tbody tr th:only-of-type {\n",
       "        vertical-align: middle;\n",
       "    }\n",
       "\n",
       "    .dataframe tbody tr th {\n",
       "        vertical-align: top;\n",
       "    }\n",
       "\n",
       "    .dataframe thead th {\n",
       "        text-align: right;\n",
       "    }\n",
       "</style>\n",
       "<table border=\"1\" class=\"dataframe\">\n",
       "  <thead>\n",
       "    <tr style=\"text-align: right;\">\n",
       "      <th></th>\n",
       "      <th>variable</th>\n",
       "      <th>coef</th>\n",
       "      <th>abs_coef</th>\n",
       "    </tr>\n",
       "  </thead>\n",
       "  <tbody>\n",
       "    <tr>\n",
       "      <th>4</th>\n",
       "      <td>cabin_staff_rating</td>\n",
       "      <td>0.727176</td>\n",
       "      <td>0.727176</td>\n",
       "    </tr>\n",
       "    <tr>\n",
       "      <th>3</th>\n",
       "      <td>seat_comfort_rating</td>\n",
       "      <td>0.525881</td>\n",
       "      <td>0.525881</td>\n",
       "    </tr>\n",
       "    <tr>\n",
       "      <th>5</th>\n",
       "      <td>food_beverages_rating</td>\n",
       "      <td>0.063375</td>\n",
       "      <td>0.063375</td>\n",
       "    </tr>\n",
       "    <tr>\n",
       "      <th>1</th>\n",
       "      <td>airline_name</td>\n",
       "      <td>-0.042143</td>\n",
       "      <td>0.042143</td>\n",
       "    </tr>\n",
       "    <tr>\n",
       "      <th>2</th>\n",
       "      <td>author_country</td>\n",
       "      <td>-0.025875</td>\n",
       "      <td>0.025875</td>\n",
       "    </tr>\n",
       "    <tr>\n",
       "      <th>6</th>\n",
       "      <td>inflight_entertainment_rating</td>\n",
       "      <td>0.022428</td>\n",
       "      <td>0.022428</td>\n",
       "    </tr>\n",
       "    <tr>\n",
       "      <th>0</th>\n",
       "      <td>Intercept</td>\n",
       "      <td>0.000000</td>\n",
       "      <td>0.000000</td>\n",
       "    </tr>\n",
       "    <tr>\n",
       "      <th>7</th>\n",
       "      <td>cabin_flown</td>\n",
       "      <td>-0.000000</td>\n",
       "      <td>0.000000</td>\n",
       "    </tr>\n",
       "  </tbody>\n",
       "</table>\n",
       "</div>"
      ],
      "text/plain": [
       "                        variable      coef  abs_coef\n",
       "4             cabin_staff_rating  0.727176  0.727176\n",
       "3            seat_comfort_rating  0.525881  0.525881\n",
       "5          food_beverages_rating  0.063375  0.063375\n",
       "1                   airline_name -0.042143  0.042143\n",
       "2                 author_country -0.025875  0.025875\n",
       "6  inflight_entertainment_rating  0.022428  0.022428\n",
       "0                      Intercept  0.000000  0.000000\n",
       "7                    cabin_flown -0.000000  0.000000"
      ]
     },
     "execution_count": 17,
     "metadata": {},
     "output_type": "execute_result"
    }
   ],
   "source": [
    "lasso.fit(X_train, y_train)\n",
    "lasso.predict(X_test)\n",
    "lasso_coefs = pd.DataFrame({'variable':X.columns,\n",
    "                            'coef':lasso.coef_,\n",
    "                            'abs_coef':np.abs(lasso.coef_)})\n",
    "lasso_coefs.sort_values('abs_coef', inplace=True, ascending=False)\n",
    "lasso_coefs"
   ]
  },
  {
   "cell_type": "code",
   "execution_count": 18,
   "metadata": {},
   "outputs": [
    {
     "data": {
      "text/plain": [
       "<matplotlib.axes._subplots.AxesSubplot at 0x2de236009e8>"
      ]
     },
     "execution_count": 18,
     "metadata": {},
     "output_type": "execute_result"
    },
    {
     "data": {
      "image/png": "[encoded data removed]",
      "text/plain": [
       "<Figure size 864x504 with 1 Axes>"
      ]
     },
     "metadata": {
      "image/png": {
       "height": 564,
       "width": 708
      },
      "needs_background": "light"
     },
     "output_type": "display_data"
    }
   ],
   "source": [
    "lasso_coefs.plot(kind='bar', x='variable', figsize=(12,7), y='coef')"
   ]
  },
  {
   "cell_type": "markdown",
   "metadata": {},
   "source": [
    "##### ****  Use GridSearch on Lasso"
   ]
  },
  {
   "cell_type": "code",
   "execution_count": 19,
   "metadata": {},
   "outputs": [
    {
     "name": "stdout",
     "output_type": "stream",
     "text": [
      "Fitting 5 folds for each of 144 candidates, totalling 720 fits\n"
     ]
    },
    {
     "name": "stderr",
     "output_type": "stream",
     "text": [
      "[Parallel(n_jobs=1)]: Using backend SequentialBackend with 1 concurrent workers.\n"
     ]
    },
    {
     "name": "stdout",
     "output_type": "stream",
     "text": [
      "0.5652642626088528\n",
      "{'alpha': 0.0001, 'copy_X': True, 'fit_intercept': True, 'max_iter': 1000, 'normalize': True, 'positive': False, 'precompute': False, 'random_state': None, 'selection': 'cyclic', 'tol': 0.002, 'warm_start': False}\n"
     ]
    },
    {
     "name": "stderr",
     "output_type": "stream",
     "text": [
      "[Parallel(n_jobs=1)]: Done 720 out of 720 | elapsed:    0.9s finished\n"
     ]
    }
   ],
   "source": [
    "lasso = Lasso()\n",
    "parameters = {'alpha':[1e-04,2e-03,0.01,0.1,0.5,0.7,1,2,5], \n",
    "              'normalize':[True,False], \n",
    "              'tol':[1e-07,1e-06,2e-05,5e-05,1e-04,5e-04,2e-03,1e-02]}\n",
    "\n",
    "gridsearch_lasso = GridSearchCV(lasso, parameters, cv=5, verbose=1)\n",
    "gridsearch_lasso.fit(X_train, y_train)\n",
    "\n",
    "print(gridsearch_lasso.best_score_)\n",
    "print(gridsearch_lasso.best_estimator_.get_params())\n",
    "\n",
    "y_pred_lasso1 = gridsearch_lasso.best_estimator_.predict(X_test).reshape(-1,1)\n",
    "\n",
    "mse_lasso = mean_squared_error(y_test, y_pred_lasso1)\n",
    "rmse_lasso = np.sqrt(mse_lasso)"
   ]
  },
  {
   "cell_type": "code",
   "execution_count": 29,
   "metadata": {},
   "outputs": [
    {
     "name": "stdout",
     "output_type": "stream",
     "text": [
      "[0.1096138  0.11546373 0.10335954 0.10689544 0.10377892]\n",
      "Mean: 0.10782228664374227 Std: 0.004443538400070982\n",
      "RMSE: 1.092160804771218\n"
     ]
    }
   ],
   "source": [
    "scores_lasso = cross_val_score(lasso, X_train, y_train, scoring='explained_variance', cv=5)\n",
    "print(scores_lasso)\n",
    "print(\"Mean:\", np.mean(scores_lasso), \"Std:\", np.std(scores_lasso))\n",
    "print(\"RMSE:\", rmse_lasso)"
   ]
  },
  {
   "cell_type": "markdown",
   "metadata": {},
   "source": [
    "##### ****** ElasticNet ******"
   ]
  },
  {
   "cell_type": "code",
   "execution_count": 21,
   "metadata": {},
   "outputs": [
    {
     "name": "stdout",
     "output_type": "stream",
     "text": [
      "0.0322802732688067\n",
      "0.035\n",
      "[0.53694936 0.51257422 0.5296666  0.50989866 0.54452305]\n",
      "0.5267223799973502\n"
     ]
    }
   ],
   "source": [
    "###  Find best alpha and l1_ratio using ElasticNetCV\n",
    "l1_ratios = np.linspace(0.01, 0.035, 25)\n",
    "\n",
    "optimal_enet = ElasticNetCV(l1_ratio=l1_ratios, n_alphas=1, cv=5)\n",
    "optimal_enet.fit(X_train, y_train)\n",
    "print(optimal_enet.alpha_)\n",
    "print(optimal_enet.l1_ratio_)\n",
    "\n",
    "enet = ElasticNet(alpha=optimal_enet.alpha_, l1_ratio=optimal_enet.l1_ratio_)\n",
    "enet_scores = cross_val_score(enet, X_test, y_test, scoring='r2', cv=5)\n",
    "\n",
    "print(enet_scores)\n",
    "print(np.mean(enet_scores))"
   ]
  },
  {
   "cell_type": "markdown",
   "metadata": {},
   "source": [
    "##### ****  Use Random Forest"
   ]
  },
  {
   "cell_type": "code",
   "execution_count": 22,
   "metadata": {
    "scrolled": true
   },
   "outputs": [
    {
     "data": {
      "text/plain": [
       "RandomForestRegressor(bootstrap=True, criterion='mse', max_depth=None,\n",
       "           max_features='auto', max_leaf_nodes=None,\n",
       "           min_impurity_decrease=0.0, min_impurity_split=None,\n",
       "           min_samples_leaf=1, min_samples_split=2,\n",
       "           min_weight_fraction_leaf=0.0, n_estimators=1000, n_jobs=None,\n",
       "           oob_score=False, random_state=5, verbose=0, warm_start=False)"
      ]
     },
     "execution_count": 22,
     "metadata": {},
     "output_type": "execute_result"
    }
   ],
   "source": [
    "rf = RandomForestRegressor(n_estimators = 1000, random_state = 5)\n",
    "rf.fit(X_train,y_train)"
   ]
  },
  {
   "cell_type": "code",
   "execution_count": 23,
   "metadata": {},
   "outputs": [
    {
     "name": "stdout",
     "output_type": "stream",
     "text": [
      "0.5149192663117715\n"
     ]
    }
   ],
   "source": [
    "print(cross_val_score(rf,X_test,y_test,cv=10,scoring='explained_variance', verbose=False).mean())"
   ]
  },
  {
   "cell_type": "code",
   "execution_count": 24,
   "metadata": {},
   "outputs": [
    {
     "name": "stdout",
     "output_type": "stream",
     "text": [
      "Fitting 8 folds for each of 3 candidates, totalling 24 fits\n"
     ]
    },
    {
     "name": "stderr",
     "output_type": "stream",
     "text": [
      "[Parallel(n_jobs=-1)]: Using backend LokyBackend with 12 concurrent workers.\n",
      "[Parallel(n_jobs=-1)]: Done  14 out of  24 | elapsed:   25.1s remaining:   17.9s\n",
      "[Parallel(n_jobs=-1)]: Done  24 out of  24 | elapsed:   26.9s finished\n"
     ]
    },
    {
     "data": {
      "text/plain": [
       "RandomizedSearchCV(cv=8, error_score='raise-deprecating',\n",
       "          estimator=RandomForestRegressor(bootstrap=True, criterion='mse', max_depth=None,\n",
       "           max_features='auto', max_leaf_nodes=None,\n",
       "           min_impurity_decrease=0.0, min_impurity_split=None,\n",
       "           min_samples_leaf=1, min_samples_split=2,\n",
       "           min_weight_fraction_leaf=0.0, n_estimators='warn', n_jobs=None,\n",
       "           oob_score=False, random_state=None, verbose=0, warm_start=False),\n",
       "          fit_params=None, iid='warn', n_iter=5, n_jobs=-1,\n",
       "          param_distributions={'criterion': ['mse'], 'max_depth': [80], 'max_features': ['auto'], 'n_estimators': [1100, 1200, 1300], 'min_samples_leaf': [2], 'min_samples_split': [2]},\n",
       "          pre_dispatch='2*n_jobs', random_state=5, refit=True,\n",
       "          return_train_score='warn', scoring=None, verbose=2)"
      ]
     },
     "execution_count": 24,
     "metadata": {},
     "output_type": "execute_result"
    }
   ],
   "source": [
    "rf_param={\n",
    "    'criterion': ['mse'],\n",
    "    'max_depth': [80],\n",
    "    'max_features': ['auto'],\n",
    "    'n_estimators': [1100,1200,1300],\n",
    "    'min_samples_leaf': [2],\n",
    "    'min_samples_split': [2]\n",
    "}\n",
    "rf = RandomForestRegressor()\n",
    "rf_random = RandomizedSearchCV(estimator=rf,param_distributions=rf_param,n_iter=5,cv=8,verbose=2,random_state=5,n_jobs=-1)\n",
    "rf_random.fit(X_train,y_train)"
   ]
  },
  {
   "cell_type": "markdown",
   "metadata": {},
   "source": [
    "'explained_variance'\n",
    "‘neg_mean_squared_error’\n",
    "‘neg_mean_absolute_error’\n",
    "‘neg_mean_squared_log_error’\n",
    "‘neg_median_absolute_error’"
   ]
  },
  {
   "cell_type": "code",
   "execution_count": 25,
   "metadata": {
    "scrolled": true
   },
   "outputs": [
    {
     "name": "stdout",
     "output_type": "stream",
     "text": [
      "0.5775654175119475\n",
      "{'n_estimators': 1200, 'min_samples_split': 2, 'min_samples_leaf': 2, 'max_features': 'auto', 'max_depth': 80, 'criterion': 'mse'}\n",
      "0.5349948686276844\n"
     ]
    }
   ],
   "source": [
    "print(rf_random.best_score_)\n",
    "print(rf_random.best_params_)\n",
    "model=rf_random.best_estimator_\n",
    "print(cross_val_score(model,X_test,y_test,cv=8,scoring='explained_variance',verbose=False).mean())"
   ]
  },
  {
   "cell_type": "markdown",
   "metadata": {},
   "source": [
    "##### ****  Use RFECV for feature selection"
   ]
  },
  {
   "cell_type": "code",
   "execution_count": 26,
   "metadata": {
    "scrolled": true
   },
   "outputs": [
    {
     "name": "stdout",
     "output_type": "stream",
     "text": [
      "Fitting estimator with 8 features.\n",
      "Fitting estimator with 7 features.\n",
      "Number of features selected by RFE: 6 \n",
      "\n",
      "Index(['airline_name', 'author_country', 'seat_comfort_rating',\n",
      "       'cabin_staff_rating', 'food_beverages_rating',\n",
      "       'inflight_entertainment_rating'],\n",
      "      dtype='object') \n",
      "\n",
      "[3 1 1 1 1 1 1 2]\n"
     ]
    }
   ],
   "source": [
    "# Use feature selection to identify relevant features\n",
    "from sklearn.feature_selection import RFECV\n",
    "\n",
    "rfe_lr = LinearRegression()\n",
    "rfe1 = RFECV(rfe_lr, step=1, cv=10, n_jobs=-1, verbose=1)\n",
    "rfe1.fit(X_train, y_train)\n",
    "\n",
    "print('Number of features selected by RFE: {}'.format(rfe1.n_features_),'\\n')\n",
    "rfe1_list = X.columns[rfe1.support_]\n",
    "\n",
    "print(rfe1_list,'\\n')\n",
    "print(rfe1.ranking_)"
   ]
  },
  {
   "cell_type": "markdown",
   "metadata": {},
   "source": [
    "##### ****  PCA with Stochastic Gradient Descent"
   ]
  },
  {
   "cell_type": "code",
   "execution_count": 28,
   "metadata": {},
   "outputs": [
    {
     "ename": "ValueError",
     "evalue": "n_components=9 must be between 0 and min(n_samples, n_features)=8 with svd_solver='full'",
     "output_type": "error",
     "traceback": [
      "\u001b[1;31m---------------------------------------------------------------------------\u001b[0m",
      "\u001b[1;31mValueError\u001b[0m                                Traceback (most recent call last)",
      "\u001b[1;32m<ipython-input-28-31c44c149041>\u001b[0m in \u001b[0;36m<module>\u001b[1;34m\u001b[0m\n\u001b[0;32m      6\u001b[0m \u001b[1;32mfor\u001b[0m \u001b[0mn\u001b[0m \u001b[1;32min\u001b[0m \u001b[0mrange\u001b[0m\u001b[1;33m(\u001b[0m\u001b[1;36m1\u001b[0m\u001b[1;33m,\u001b[0m\u001b[1;36m11\u001b[0m\u001b[1;33m,\u001b[0m\u001b[1;36m1\u001b[0m\u001b[1;33m)\u001b[0m\u001b[1;33m:\u001b[0m\u001b[1;33m\u001b[0m\u001b[1;33m\u001b[0m\u001b[0m\n\u001b[0;32m      7\u001b[0m     \u001b[0mpca\u001b[0m \u001b[1;33m=\u001b[0m \u001b[0mPCA\u001b[0m\u001b[1;33m(\u001b[0m\u001b[0mn_components\u001b[0m\u001b[1;33m=\u001b[0m\u001b[0mn\u001b[0m\u001b[1;33m)\u001b[0m\u001b[1;33m\u001b[0m\u001b[1;33m\u001b[0m\u001b[0m\n\u001b[1;32m----> 8\u001b[1;33m     \u001b[0mpca\u001b[0m\u001b[1;33m.\u001b[0m\u001b[0mfit\u001b[0m\u001b[1;33m(\u001b[0m\u001b[0mX_train\u001b[0m\u001b[1;33m)\u001b[0m\u001b[1;33m\u001b[0m\u001b[1;33m\u001b[0m\u001b[0m\n\u001b[0m\u001b[0;32m      9\u001b[0m     \u001b[0mX_train2\u001b[0m \u001b[1;33m=\u001b[0m \u001b[0mpca\u001b[0m\u001b[1;33m.\u001b[0m\u001b[0mtransform\u001b[0m\u001b[1;33m(\u001b[0m\u001b[0mX_train\u001b[0m\u001b[1;33m)\u001b[0m\u001b[1;33m\u001b[0m\u001b[1;33m\u001b[0m\u001b[0m\n\u001b[0;32m     10\u001b[0m     \u001b[0mX_test2\u001b[0m \u001b[1;33m=\u001b[0m \u001b[0mpca\u001b[0m\u001b[1;33m.\u001b[0m\u001b[0mtransform\u001b[0m\u001b[1;33m(\u001b[0m\u001b[0mX_test\u001b[0m\u001b[1;33m)\u001b[0m\u001b[1;33m\u001b[0m\u001b[1;33m\u001b[0m\u001b[0m\n",
      "\u001b[1;32mC:\\ProgramData\\Anaconda3\\lib\\site-packages\\sklearn\\decomposition\\pca.py\u001b[0m in \u001b[0;36mfit\u001b[1;34m(self, X, y)\u001b[0m\n\u001b[0;32m    338\u001b[0m             \u001b[0mReturns\u001b[0m \u001b[0mthe\u001b[0m \u001b[0minstance\u001b[0m \u001b[0mitself\u001b[0m\u001b[1;33m.\u001b[0m\u001b[1;33m\u001b[0m\u001b[1;33m\u001b[0m\u001b[0m\n\u001b[0;32m    339\u001b[0m         \"\"\"\n\u001b[1;32m--> 340\u001b[1;33m         \u001b[0mself\u001b[0m\u001b[1;33m.\u001b[0m\u001b[0m_fit\u001b[0m\u001b[1;33m(\u001b[0m\u001b[0mX\u001b[0m\u001b[1;33m)\u001b[0m\u001b[1;33m\u001b[0m\u001b[1;33m\u001b[0m\u001b[0m\n\u001b[0m\u001b[0;32m    341\u001b[0m         \u001b[1;32mreturn\u001b[0m \u001b[0mself\u001b[0m\u001b[1;33m\u001b[0m\u001b[1;33m\u001b[0m\u001b[0m\n\u001b[0;32m    342\u001b[0m \u001b[1;33m\u001b[0m\u001b[0m\n",
      "\u001b[1;32mC:\\ProgramData\\Anaconda3\\lib\\site-packages\\sklearn\\decomposition\\pca.py\u001b[0m in \u001b[0;36m_fit\u001b[1;34m(self, X)\u001b[0m\n\u001b[0;32m    404\u001b[0m         \u001b[1;31m# Call different fits for either full or truncated SVD\u001b[0m\u001b[1;33m\u001b[0m\u001b[1;33m\u001b[0m\u001b[1;33m\u001b[0m\u001b[0m\n\u001b[0;32m    405\u001b[0m         \u001b[1;32mif\u001b[0m \u001b[0mself\u001b[0m\u001b[1;33m.\u001b[0m\u001b[0m_fit_svd_solver\u001b[0m \u001b[1;33m==\u001b[0m \u001b[1;34m'full'\u001b[0m\u001b[1;33m:\u001b[0m\u001b[1;33m\u001b[0m\u001b[1;33m\u001b[0m\u001b[0m\n\u001b[1;32m--> 406\u001b[1;33m             \u001b[1;32mreturn\u001b[0m \u001b[0mself\u001b[0m\u001b[1;33m.\u001b[0m\u001b[0m_fit_full\u001b[0m\u001b[1;33m(\u001b[0m\u001b[0mX\u001b[0m\u001b[1;33m,\u001b[0m \u001b[0mn_components\u001b[0m\u001b[1;33m)\u001b[0m\u001b[1;33m\u001b[0m\u001b[1;33m\u001b[0m\u001b[0m\n\u001b[0m\u001b[0;32m    407\u001b[0m         \u001b[1;32melif\u001b[0m \u001b[0mself\u001b[0m\u001b[1;33m.\u001b[0m\u001b[0m_fit_svd_solver\u001b[0m \u001b[1;32min\u001b[0m \u001b[1;33m[\u001b[0m\u001b[1;34m'arpack'\u001b[0m\u001b[1;33m,\u001b[0m \u001b[1;34m'randomized'\u001b[0m\u001b[1;33m]\u001b[0m\u001b[1;33m:\u001b[0m\u001b[1;33m\u001b[0m\u001b[1;33m\u001b[0m\u001b[0m\n\u001b[0;32m    408\u001b[0m             \u001b[1;32mreturn\u001b[0m \u001b[0mself\u001b[0m\u001b[1;33m.\u001b[0m\u001b[0m_fit_truncated\u001b[0m\u001b[1;33m(\u001b[0m\u001b[0mX\u001b[0m\u001b[1;33m,\u001b[0m \u001b[0mn_components\u001b[0m\u001b[1;33m,\u001b[0m \u001b[0mself\u001b[0m\u001b[1;33m.\u001b[0m\u001b[0m_fit_svd_solver\u001b[0m\u001b[1;33m)\u001b[0m\u001b[1;33m\u001b[0m\u001b[1;33m\u001b[0m\u001b[0m\n",
      "\u001b[1;32mC:\\ProgramData\\Anaconda3\\lib\\site-packages\\sklearn\\decomposition\\pca.py\u001b[0m in \u001b[0;36m_fit_full\u001b[1;34m(self, X, n_components)\u001b[0m\n\u001b[0;32m    423\u001b[0m                              \u001b[1;34m\"min(n_samples, n_features)=%r with \"\u001b[0m\u001b[1;33m\u001b[0m\u001b[1;33m\u001b[0m\u001b[0m\n\u001b[0;32m    424\u001b[0m                              \u001b[1;34m\"svd_solver='full'\"\u001b[0m\u001b[1;33m\u001b[0m\u001b[1;33m\u001b[0m\u001b[0m\n\u001b[1;32m--> 425\u001b[1;33m                              % (n_components, min(n_samples, n_features)))\n\u001b[0m\u001b[0;32m    426\u001b[0m         \u001b[1;32melif\u001b[0m \u001b[0mn_components\u001b[0m \u001b[1;33m>=\u001b[0m \u001b[1;36m1\u001b[0m\u001b[1;33m:\u001b[0m\u001b[1;33m\u001b[0m\u001b[1;33m\u001b[0m\u001b[0m\n\u001b[0;32m    427\u001b[0m             \u001b[1;32mif\u001b[0m \u001b[1;32mnot\u001b[0m \u001b[0misinstance\u001b[0m\u001b[1;33m(\u001b[0m\u001b[0mn_components\u001b[0m\u001b[1;33m,\u001b[0m \u001b[1;33m(\u001b[0m\u001b[0mnumbers\u001b[0m\u001b[1;33m.\u001b[0m\u001b[0mIntegral\u001b[0m\u001b[1;33m,\u001b[0m \u001b[0mnp\u001b[0m\u001b[1;33m.\u001b[0m\u001b[0minteger\u001b[0m\u001b[1;33m)\u001b[0m\u001b[1;33m)\u001b[0m\u001b[1;33m:\u001b[0m\u001b[1;33m\u001b[0m\u001b[1;33m\u001b[0m\u001b[0m\n",
      "\u001b[1;31mValueError\u001b[0m: n_components=9 must be between 0 and min(n_samples, n_features)=8 with svd_solver='full'"
     ]
    }
   ],
   "source": [
    "from sklearn.decomposition import PCA\n",
    "from sklearn.linear_model import SGDRegressor\n",
    "\n",
    "n_list=[x for x in range(1,11,1)]\n",
    "score_list=[]\n",
    "for n in range(1,11,1):\n",
    "    pca = PCA(n_components=n)\n",
    "    pca.fit(X_train)\n",
    "    X_train2 = pca.transform(X_train)\n",
    "    X_test2 = pca.transform(X_test)\n",
    "    \n",
    "    sgd_reg = SGDRegressor()\n",
    "    selector = RFECV(sgd_reg, step=1, cv=5,scoring='r2')\n",
    "    selector = selector.fit(X_train2, y_train)\n",
    "    score_list.append(selector.score(X_test2,y_test))\n",
    "    \n",
    "print(np.array(score_list).max())\n",
    "score_list.index(np.array(score_list).max())+1"
   ]
  },
  {
   "cell_type": "code",
   "execution_count": null,
   "metadata": {},
   "outputs": [],
   "source": []
  }
 ],
 "metadata": {
  "kernelspec": {
   "display_name": "Python 3",
   "language": "python",
   "name": "python3"
  },
  "language_info": {
   "codemirror_mode": {
    "name": "ipython",
    "version": 3
   },
   "file_extension": ".py",
   "mimetype": "text/x-python",
   "name": "python",
   "nbconvert_exporter": "python",
   "pygments_lexer": "ipython3",
   "version": "3.6.8"
  }
 },
 "nbformat": 4,
 "nbformat_minor": 2
}
